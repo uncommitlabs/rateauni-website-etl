{
 "cells": [
  {
   "cell_type": "code",
   "execution_count": 1,
   "metadata": {},
   "outputs": [],
   "source": [
    "import pandas as pd\n",
    "import sqlalchemy as sa\n",
    "\n",
    "from decouple import config\n",
    "\n",
    "from pandas import (\n",
    "    Int64Dtype,\n",
    "    StringDtype,\n",
    ")\n",
    "\n",
    "from sqlalchemy.dialects.postgresql import (\n",
    "    INTEGER,\n",
    "    VARCHAR,\n",
    ")"
   ]
  },
  {
   "cell_type": "code",
   "execution_count": 2,
   "metadata": {},
   "outputs": [],
   "source": [
    "brasil_data = pd.read_csv(\"http://dadosabertos.mec.gov.br/images/conteudo/Ind-ensino-superior/2022/PDA_Lista_Instituicoes_Ensino_Superior_do_Brasil_EMEC.csv\")"
   ]
  },
  {
   "cell_type": "code",
   "execution_count": 3,
   "metadata": {},
   "outputs": [],
   "source": [
    "brasil_data = brasil_data.query(\"SITUACAO_IES == 'Ativa'\")"
   ]
  },
  {
   "cell_type": "code",
   "execution_count": 4,
   "metadata": {},
   "outputs": [],
   "source": [
    "brasil_data.insert(\n",
    "    loc = 0,\n",
    "    column = \"university_country\",\n",
    "    value = \"BR\",\n",
    ")"
   ]
  },
  {
   "cell_type": "code",
   "execution_count": 5,
   "metadata": {},
   "outputs": [],
   "source": [
    "brasil_data = brasil_data.rename(\n",
    "    columns = {\n",
    "        \"CODIGO_DA_IES\": \"university_id\",\n",
    "        \"NOME_DA_IES\": \"university_name\",\n",
    "        \"UF\": \"university_state\",\n",
    "        \"MUNICIPIO\": \"university_city\"\n",
    "    }\n",
    ")"
   ]
  },
  {
   "cell_type": "code",
   "execution_count": 6,
   "metadata": {},
   "outputs": [],
   "source": [
    "brasil_data = brasil_data.reindex(\n",
    "    columns = [\n",
    "        \"university_id\",\n",
    "        \"university_name\",\n",
    "        \"university_campus\",\n",
    "        \"university_country\",\n",
    "        \"university_state\",\n",
    "        \"university_city\",\n",
    "    ]\n",
    ")"
   ]
  },
  {
   "cell_type": "code",
   "execution_count": 7,
   "metadata": {},
   "outputs": [],
   "source": [
    "brasil_data = brasil_data.astype(\n",
    "    dtype = {\n",
    "        \"university_id\": Int64Dtype(),\n",
    "        \"university_name\": StringDtype(),\n",
    "        \"university_campus\": StringDtype(),\n",
    "        \"university_country\": StringDtype(),\n",
    "        \"university_state\": StringDtype(),\n",
    "        \"university_city\": StringDtype(),\n",
    "    }\n",
    ")"
   ]
  },
  {
   "cell_type": "code",
   "execution_count": 8,
   "metadata": {},
   "outputs": [],
   "source": [
    "brasil_data[\"university_name\"] = brasil_data[\"university_name\"].str.title()"
   ]
  },
  {
   "cell_type": "code",
   "execution_count": 9,
   "metadata": {},
   "outputs": [],
   "source": [
    "POSTGRES_URL = config(\"POSTGRES_URL\", default = \"sqlite:///university.db\")"
   ]
  },
  {
   "cell_type": "code",
   "execution_count": 10,
   "metadata": {},
   "outputs": [],
   "source": [
    "engine_database = sa.create_engine(POSTGRES_URL)"
   ]
  },
  {
   "cell_type": "code",
   "execution_count": 11,
   "metadata": {},
   "outputs": [],
   "source": [
    "# ! - One time etl, after that you'll need to erase some data to run this again\n",
    "with engine_database.connect() as database_connection:\n",
    "    brasil_data.to_sql(\n",
    "        name = \"rates_universities\",\n",
    "        con = database_connection,\n",
    "        if_exists = \"append\",\n",
    "        dtype = {\n",
    "            \"university_id\": INTEGER,\n",
    "            \"university_name\": VARCHAR(255),\n",
    "            \"university_campus\": VARCHAR(255),\n",
    "            \"university_country\": VARCHAR(255),\n",
    "            \"university_state\": VARCHAR(255),\n",
    "            \"university_city\": VARCHAR(255),\n",
    "        }\n",
    "    )"
   ]
  }
 ],
 "metadata": {
  "kernelspec": {
   "display_name": ".venv",
   "language": "python",
   "name": "python3"
  },
  "language_info": {
   "codemirror_mode": {
    "name": "ipython",
    "version": 3
   },
   "file_extension": ".py",
   "mimetype": "text/x-python",
   "name": "python",
   "nbconvert_exporter": "python",
   "pygments_lexer": "ipython3",
   "version": "3.12.2"
  }
 },
 "nbformat": 4,
 "nbformat_minor": 2
}
